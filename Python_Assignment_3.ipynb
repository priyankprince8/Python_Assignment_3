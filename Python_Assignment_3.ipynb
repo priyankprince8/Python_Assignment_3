{
  "nbformat": 4,
  "nbformat_minor": 0,
  "metadata": {
    "colab": {
      "provenance": []
    },
    "kernelspec": {
      "name": "python3",
      "display_name": "Python 3"
    },
    "language_info": {
      "name": "python"
    }
  },
  "cells": [
    {
      "cell_type": "code",
      "execution_count": 1,
      "metadata": {
        "id": "rd0dwW8nGPRr"
      },
      "outputs": [],
      "source": [
        "#1. Why are functions advantageous to have in your programs?\n",
        "#Functions reduce the need for duplicate code. This makes programs shorter, easier to read, and easier to update. functions promote a modular, reusable, and readable coding style, making programs more maintainable and efficient in terms of development and collaboration.\n"
      ]
    },
    {
      "cell_type": "code",
      "source": [
        "#2. When does the code in a function run: when it's specified or when it's called?\n",
        "#The code in a function executes when the function is called, not when the function is defined."
      ],
      "metadata": {
        "id": "vrXSt56VG7yT"
      },
      "execution_count": 2,
      "outputs": []
    },
    {
      "cell_type": "code",
      "source": [
        "#3. What statement creates a function?\n",
        "#The def statement defines, i.e. creates a function."
      ],
      "metadata": {
        "id": "zeaXYCKjHp23"
      },
      "execution_count": 3,
      "outputs": []
    },
    {
      "cell_type": "code",
      "source": [
        "#4. What is the difference between a function and a function call?\n",
        "#A function consists of the def statement and the code in its def clause. A function call is what moves the program execution into the function, and the function call evaluates to the function's return value."
      ],
      "metadata": {
        "id": "AvsDIU1tJmhI"
      },
      "execution_count": 4,
      "outputs": []
    },
    {
      "cell_type": "code",
      "source": [
        "#5. How many global scopes are there in a Python program? How many local scopes?\n",
        "#There is one global scope, and a local scope is created whenever a function is called."
      ],
      "metadata": {
        "id": "jubHVvXGKBqk"
      },
      "execution_count": 5,
      "outputs": []
    },
    {
      "cell_type": "code",
      "source": [
        "#6. What happens to variables in a local scope when the function call returns?\n",
        "#When a function returns, the local scope is destroyed, and all the variables in it are forgotten."
      ],
      "metadata": {
        "id": "AQVOqXrAKiKy"
      },
      "execution_count": 6,
      "outputs": []
    },
    {
      "cell_type": "code",
      "source": [
        "#7. What is the concept of a return value? Is it possible to have a return value in an expression?\n",
        "#In programming, a return value is the value that a function produces or sends back to the caller when it completes its execution. When a function is called, it may perform certain operations and then return a result to the part of the program that called it. The return value allows information to be communicated from the function back to the calling code.\n",
        "#Yes, it is possible to use the return value of a function directly in an expression. When a function returns a value, that value can be used in various ways, such as in arithmetic operations, assignments, or as an argument to another function."
      ],
      "metadata": {
        "id": "UVxrzfN1K_1F"
      },
      "execution_count": 7,
      "outputs": []
    },
    {
      "cell_type": "code",
      "source": [
        "#8. If a function does not have a return statement, what is the return value of a call to that function?\n",
        "#If there is no return statement for a function, its return value is None."
      ],
      "metadata": {
        "id": "ghcpgFS6MOWU"
      },
      "execution_count": 8,
      "outputs": []
    },
    {
      "cell_type": "code",
      "source": [
        "#9. How do you make a function variable refer to the global variable?\n",
        "#A global statement will force a variable in a function to refer to the global variable."
      ],
      "metadata": {
        "id": "IFw9WaroMrMq"
      },
      "execution_count": 9,
      "outputs": []
    },
    {
      "cell_type": "code",
      "source": [
        "#10. What is the data type of None?\n",
        "#In Python, None is a special constant representing the absence of a value or a null value. It is often used to signify that a variable or a function does not return any value."
      ],
      "metadata": {
        "id": "867CngJfNVTd"
      },
      "execution_count": 10,
      "outputs": []
    },
    {
      "cell_type": "code",
      "source": [
        "#11. What does the sentence import areallyourpetsnamederic do?\n",
        "#That import statement imports a module named areallyourpetsnamederic."
      ],
      "metadata": {
        "id": "ZKwtB8CTN5C1"
      },
      "execution_count": 11,
      "outputs": []
    },
    {
      "cell_type": "code",
      "source": [
        "#12. If you had a bacon() feature in a spam module, what would you call it after importing spam?\n",
        "#This function can be called with spam.bacon()."
      ],
      "metadata": {
        "id": "Hfo4Pe3GOLzW"
      },
      "execution_count": 12,
      "outputs": []
    },
    {
      "cell_type": "code",
      "source": [
        "#13. What can you do to save a programme from crashing if it encounters an error?\n",
        "#Place the line of code that might cause an error in a try clause."
      ],
      "metadata": {
        "id": "xAn-MxK4OrKG"
      },
      "execution_count": 13,
      "outputs": []
    },
    {
      "cell_type": "code",
      "source": [
        "#14. What is the purpose of the try clause? What is the purpose of the except clause?\n",
        "#The code that could potentially cause an error goes in the try clause.\n",
        "#-The code that executes if an error happens goes in the except clause.\n"
      ],
      "metadata": {
        "id": "7H_mdzJqO3kI"
      },
      "execution_count": 16,
      "outputs": []
    },
    {
      "cell_type": "code",
      "source": [],
      "metadata": {
        "id": "bY82H99ePF0K"
      },
      "execution_count": null,
      "outputs": []
    }
  ]
}